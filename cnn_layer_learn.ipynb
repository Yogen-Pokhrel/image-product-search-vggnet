{
 "cells": [
  {
   "cell_type": "code",
   "execution_count": 6,
   "id": "48c0be81-3b71-41e1-92ce-e01e944aa8c4",
   "metadata": {},
   "outputs": [],
   "source": [
    "import tensorflow as tf\n",
    "from tensorflow.keras.layers import Input\n",
    "from tensorflow.keras.layers import Conv2D\n",
    "from tensorflow.keras.layers import MaxPooling2D\n",
    "from tensorflow.keras.layers import Dropout\n",
    "from tensorflow.keras.layers import BatchNormalization\n",
    "from tensorflow.keras.layers import Conv2DTranspose\n",
    "from tensorflow.keras.layers import concatenate\n",
    "from tensorflow.keras.losses import categorical_crossentropy\n",
    "from tensorflow.keras import Model"
   ]
  },
  {
   "cell_type": "code",
   "execution_count": 4,
   "id": "41dee2ca-6f38-473a-aa18-0eca677f8e6d",
   "metadata": {},
   "outputs": [],
   "source": [
    "def encoder_block(inputs, num_filters=32, dropout_prob=0.3, max_pooling=True):\n",
    "    conv = Conv2D(num_filters,\n",
    "                  kernel = 3,\n",
    "                  padding = 'same',\n",
    "                  activation = 'relu',\n",
    "                 kernel_initializer='HeNormal')(inputs)\n",
    "    conv1 = Conv2D(num_filters,\n",
    "                  kernel = 3,\n",
    "                  padding = 'same',\n",
    "                  activation = 'relu',\n",
    "                 kernel_initializer='HeNormal')(conv)\n",
    "    conv2 = BatchNormalization()(conv, training= False)\n",
    "    if droput_prob > 0:\n",
    "        conv2 = Dropout(dropout_prob)(conv2)\n",
    "    if max_pooling :\n",
    "        next_layer = MaxPooling2d(pool_size = (2,2))(conv2)\n",
    "    else:\n",
    "        next_layer = conv\n",
    "\n",
    "    skip_connection = conv\n",
    "\n",
    "    return next_layer, skip_connection\n"
   ]
  },
  {
   "cell_type": "code",
   "execution_count": 5,
   "id": "42c0144b-483a-4099-8a46-b21afa335ee7",
   "metadata": {},
   "outputs": [],
   "source": [
    "def decoder_block(prev_layer_input, skip_layer_input, num_filters=32):\n",
    "    transpose_layer = Conv2DTranspose(\n",
    "        num_filters,\n",
    "        (3,3),\n",
    "        strides=(2,2),\n",
    "        padding='same') (prev_layer_input)\n",
    "    merge = concatenate([up, skip_layer_input], axis = 3)\n",
    "\n",
    "    conv = Conv2D(num_filters,\n",
    "                  kernel = 3,\n",
    "                  padding = 'same',\n",
    "                  activation = 'relu',\n",
    "                 kernel_initializer='HeNormal')(merge)\n",
    "    conv = Conv2D(num_filters,\n",
    "                  kernel = 3,\n",
    "                  padding = 'same',\n",
    "                  activation = 'relu',\n",
    "                 kernel_initializer='HeNormal')(conv)\n",
    "    return conv"
   ]
  },
  {
   "cell_type": "code",
   "execution_count": 8,
   "id": "0c44c37f-d864-4029-af4b-0ced976a6598",
   "metadata": {},
   "outputs": [],
   "source": [
    "def UnetGraph(input_size=(128,128,3), n_filters=32, n_classes=3):\n",
    "    inputs = Input(input_size)\n",
    "\n",
    "    #ENCODER BLOCKS\n",
    "    cblock1 = EncoderMiniBlock(inputs, n_filters,dropout_prob=0, max_pooling=True)\n",
    "    cblock2 = EncoderMiniBlock(cblock1[0],n_filters*2,dropout_prob=0, max_pooling=True)\n",
    "    cblock3 = EncoderMiniBlock(cblock2[0], n_filters*4,dropout_prob=0, max_pooling=True)\n",
    "    cblock4 = EncoderMiniBlock(cblock3[0], n_filters*8,dropout_prob=0.3, max_pooling=True)\n",
    "    cblock5 = EncoderMiniBlock(cblock4[0], n_filters*16, dropout_prob=0.3, max_pooling=False) \n",
    "\n",
    "    #DECODER BLOCKS\n",
    "    ublock6 = DecoderMiniBlock(cblock5[0], cblock4[1],  n_filters * 8)\n",
    "    ublock7 = DecoderMiniBlock(ublock6, cblock3[1],  n_filters * 4)\n",
    "    ublock8 = DecoderMiniBlock(ublock7, cblock2[1],  n_filters * 2)\n",
    "    ublock9 = DecoderMiniBlock(ublock8, cblock1[1],  n_filters)\n",
    "\n",
    "    conv9 = Conv2D(n_filters,\n",
    "                 3,\n",
    "                 activation='relu',\n",
    "                 padding='same',\n",
    "                 kernel_initializer='he_normal')(ublock9)\n",
    "    conv10 = Conv2D(n_classes, 1, padding='same', activation = 'softmax')(conv9)\n",
    "    \n",
    "    model = Model(inputs=inputs , outputs=conv10)\n",
    "    \n",
    "    return model"
   ]
  },
  {
   "cell_type": "code",
   "execution_count": null,
   "id": "7fde7924-a315-4d92-bc21-2f90ae07b29e",
   "metadata": {},
   "outputs": [],
   "source": []
  }
 ],
 "metadata": {
  "kernelspec": {
   "display_name": "Python 3 (ipykernel)",
   "language": "python",
   "name": "python3"
  },
  "language_info": {
   "codemirror_mode": {
    "name": "ipython",
    "version": 3
   },
   "file_extension": ".py",
   "mimetype": "text/x-python",
   "name": "python",
   "nbconvert_exporter": "python",
   "pygments_lexer": "ipython3",
   "version": "3.12.4"
  }
 },
 "nbformat": 4,
 "nbformat_minor": 5
}

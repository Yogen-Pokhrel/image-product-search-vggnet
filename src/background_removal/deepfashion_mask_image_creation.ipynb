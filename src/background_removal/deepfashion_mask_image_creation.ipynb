{
 "cells": [
  {
   "cell_type": "code",
   "execution_count": 1,
   "id": "65f4df34-ae56-44c5-8db9-60661b565df2",
   "metadata": {},
   "outputs": [],
   "source": [
    "import json\n",
    "import cv2\n",
    "import numpy as np\n",
    "import os\n",
    "import matplotlib.pyplot as plt"
   ]
  },
  {
   "cell_type": "code",
   "execution_count": 2,
   "id": "e6b7e0a7-188f-40e8-9580-3cf3174656fb",
   "metadata": {},
   "outputs": [],
   "source": [
    "image_path = '/Users/gauravneupane/Documents/ml/data/datasets/train/image'\n",
    "annotation_path = '/Users/gauravneupane/Documents/ml/data/datasets/train/annos'"
   ]
  },
  {
   "cell_type": "code",
   "execution_count": 3,
   "id": "cb28f482-4d86-4748-aec2-26f858c0e2a8",
   "metadata": {},
   "outputs": [],
   "source": [
    "#'trousers': 8,\n",
    "# 'short sleeve top': 1,\n",
    "# 'long sleeve dress': 11,\n",
    "#'long sleeve top': 2,\n",
    "#'skirt': 9,\n",
    "#'shorts': 7,\n",
    "#'long sleeve outwear': 4,\n",
    "#'vest dress': 12,\n",
    "#'short sleeve dress': 10,\n",
    "#'vest': 5,\n",
    "#'sling dress': 13,\n",
    "#'short sleeve outwear': 3,\n",
    "#'sling': 6\n",
    "\n",
    "color_map = {\n",
    "    0: [0, 0, 0],        # Background: Black\n",
    "    1: [0, 128, 0],     \n",
    "    2: [255, 0, 0], \n",
    "    3: [0, 0, 255],  \n",
    "    4: [0, 255, 0],     \n",
    "    5: [255, 255, 0], \n",
    "    6: [255, 165, 0], \n",
    "    7: [255, 192, 203],\n",
    "    8: [128, 0, 128], \n",
    "    9: [0, 255, 255], \n",
    "    10: [128, 128, 0], \n",
    "    11: [255, 0, 255], \n",
    "    12: [0, 128, 128], \n",
    "    13: [128, 128, 128], \n",
    "    14: [0, 255, 255],   \n",
    "}\n"
   ]
  },
  {
   "cell_type": "code",
   "execution_count": 4,
   "id": "5acf8535-ee39-49f4-9d0e-d2dcfbd49394",
   "metadata": {},
   "outputs": [],
   "source": [
    "def apply_color_map(mask, color_map):\n",
    "    # Convert mask to RGB image using the color map\n",
    "    rgb_mask = np.zeros((mask.shape[0], mask.shape[1], 3), dtype=np.uint8)\n",
    "    for label, color in color_map.items():\n",
    "        rgb_mask[mask == label] = color\n",
    "    return rgb_mask"
   ]
  },
  {
   "cell_type": "code",
   "execution_count": 5,
   "id": "8752d0f4-da91-4626-8ac9-16ad8809d5bd",
   "metadata": {},
   "outputs": [],
   "source": [
    "def overlay_mask_on_image(image, mask, color_map):\n",
    "    # Convert mask to RGB format\n",
    "    mask_rgb = apply_color_map(mask, color_map)\n",
    "    \n",
    "    # Overlay mask on the image\n",
    "    overlay = cv2.addWeighted(image, 0.7, mask_rgb, 0.3, 0)\n",
    "    return overlay"
   ]
  },
  {
   "cell_type": "code",
   "execution_count": 6,
   "id": "c36c7442-df71-4fbf-9b32-6c818000fe93",
   "metadata": {},
   "outputs": [],
   "source": [
    "def load_json(json_path):\n",
    "    with open(json_path, 'r') as file:\n",
    "        data = json.load(file)\n",
    "    return data"
   ]
  },
  {
   "cell_type": "code",
   "execution_count": 7,
   "id": "e7cfac9e-ef72-4b17-b5f4-1384f615f569",
   "metadata": {},
   "outputs": [],
   "source": [
    "exclude_keys = ['source','pair_id']\n",
    "def create_mask_for_whole_image(image_shape, segmentation_cats):\n",
    "    '''create new mask image from the segmentation points'''\n",
    "    mask = np.zeros((image_shape[0], image_shape[1]), dtype=np.uint8)\n",
    "    for data in segmentation_cats:\n",
    "        segmentation = data['data_points']\n",
    "        class_label = data['class_label']\n",
    "        for seg in segmentation:\n",
    "            points = np.array(seg).reshape(-1, 2)\n",
    "            cv2.fillPoly(mask, [points.astype(np.int32)], class_label)\n",
    "    return mask"
   ]
  },
  {
   "cell_type": "code",
   "execution_count": 8,
   "id": "5fdec507-139a-47a7-b0e7-a6d50d065767",
   "metadata": {},
   "outputs": [],
   "source": [
    "def build_mask(image_shape,json_data):\n",
    "    '''extract mask information as points from the dataset and create a new image as a mask'''\n",
    "    image_segmentation_data_points = []\n",
    "    filtered_keys = [key for key in json_data.keys() if key not in exclude_keys]\n",
    "    categories = []\n",
    "    for key in filtered_keys:\n",
    "        data_points = json_data[key]['segmentation']\n",
    "        category = json_data[key]['category_name']\n",
    "        class_label = json_data[key]['category_id']\n",
    "        segmentation_with_class = {'data_points': data_points,\n",
    "                                   'category': category,\n",
    "                                   'class_label': class_label}\n",
    "        image_segmentation_data_points.append(segmentation_with_class)\n",
    "        categories.append(category)\n",
    "    mask = create_mask_for_whole_image(image_shape,image_segmentation_data_points)\n",
    "    return mask, categories"
   ]
  },
  {
   "cell_type": "code",
   "execution_count": 40,
   "id": "1af80a4c-c876-44d7-a602-d4018c4c060e",
   "metadata": {},
   "outputs": [
    {
     "name": "stdout",
     "output_type": "stream",
     "text": [
      "{'trousers': 1000, 'short sleeve top': 1000, 'long sleeve dress': 1000, 'long sleeve top': 1000, 'skirt': 1000, 'shorts': 1000, 'long sleeve outwear': 1000, 'vest dress': 1000, 'short sleeve dress': 1000, 'vest': 1000, 'sling dress': 1000, 'short sleeve outwear': 215, 'sling': 999}\n"
     ]
    }
   ],
   "source": [
    "import skimage.io as skio\n",
    "\n",
    "images_per_class = 1000\n",
    "image_annot_save_path = '/Users/gauravneupane/Documents/ml/projects/image_retrieval/new'\n",
    "output_image_shape = (256,256)\n",
    "category_count = {'trousers': 0,\n",
    "                    'short sleeve top': 0,\n",
    "                    'long sleeve dress': 0,\n",
    "                    'long sleeve top': 0,\n",
    "                    'skirt': 0,\n",
    "                    'shorts': 0,\n",
    "                    'long sleeve outwear': 0,\n",
    "                    'vest dress': 0,\n",
    "                    'short sleeve dress': 0,\n",
    "                    'vest': 0,\n",
    "                    'sling dress': 0,\n",
    "                    'short sleeve outwear': 0,\n",
    "                    'sling': 0\n",
    "                    }\n",
    "loop_count = 0\n",
    "for i,file in enumerate(sorted(os.listdir(image_path))[:100000]):\n",
    "    stop = True\n",
    "    full_path = os.path.join(image_path, file)\n",
    "    annot_path = os.path.join(annotation_path, file.split('.')[0]+'.json')\n",
    "    annot_data = load_json(annot_path)\n",
    "    image = cv2.imread(full_path)\n",
    "    # image_rgb = cv2.cvtColor(image, cv2.COLOR_BGR2RGB)\n",
    "    mask,categories = build_mask(image.shape,annot_data)\n",
    "    # print(mask.dtype)\n",
    "    # plt.imshow(mask, cmap='gray')\n",
    "    # plt.colorbar()\n",
    "    # plt.show()\n",
    "    category_full = True\n",
    "    for category in categories:\n",
    "        if(category_count[category] < images_per_class):\n",
    "            category_count[category] = category_count[category] + 1\n",
    "            category_full = False\n",
    "    for value in category_count.values():\n",
    "        if(value < images_per_class):\n",
    "            stop = False\n",
    "    if(stop):\n",
    "        break\n",
    "    loop_count += 1\n",
    "    resized_image = cv2.resize(image, output_image_shape)\n",
    "    # normalizing image and changing type to float32 which is essential for deep learning models\n",
    "    resized_mask = cv2.resize(mask, output_image_shape, interpolation = cv2.INTER_NEAREST)\n",
    "    image_save_path = os.path.join(image_annot_save_path, file.replace('.jpg', '.png'))\n",
    "    annot_save_path = os.path.join(image_annot_save_path, 'annot-'+file.replace('.jpg','.png'))\n",
    "    cv2.imwrite(image_save_path, resized_image)\n",
    "    cv2.imwrite(annot_save_path, resized_mask)\n",
    "\n",
    "    # # overlay = overlay_mask_on_image(image_rgb, mask, color_map)\n",
    "    # # plt.imshow(overlay)\n",
    "    # print(annot_save_path)\n",
    "    # new_image = cv2.imread(annot_save_path, cv2.IMREAD_UNCHANGED)\n",
    "    # new_image = image.astype(np.uint8)\n",
    "    # binary_mask = skio.imread(annot_save_path)\n",
    "    # print('from original',np.unique(mask))\n",
    "    # print('from pick',np.unique(new_image))\n",
    "    # plt.imshow(new_image, cmap='gray')\n",
    "    # plt.colorbar()\n",
    "    # plt.show()\n",
    "print(category_count)"
   ]
  },
  {
   "cell_type": "code",
   "execution_count": null,
   "id": "29c9b0ef-cd48-4736-8451-a1f337f919b3",
   "metadata": {},
   "outputs": [],
   "source": []
  },
  {
   "cell_type": "code",
   "execution_count": 10,
   "id": "a851f8bd-d0c0-4607-8091-b72d7411dfa8",
   "metadata": {},
   "outputs": [
    {
     "data": {
      "text/plain": [
       "{'trousers': 8,\n",
       " 'short sleeve top': 1,\n",
       " 'long sleeve dress': 11,\n",
       " 'long sleeve top': 2,\n",
       " 'skirt': 9,\n",
       " 'shorts': 7,\n",
       " 'long sleeve outwear': 4,\n",
       " 'vest dress': 12,\n",
       " 'short sleeve dress': 10,\n",
       " 'vest': 5,\n",
       " 'sling dress': 13,\n",
       " 'short sleeve outwear': 3,\n",
       " 'sling': 6}"
      ]
     },
     "execution_count": 10,
     "metadata": {},
     "output_type": "execute_result"
    }
   ],
   "source": [
    "{'trousers': 8, 'short sleeve top': 1, 'long sleeve dress': 11, 'long sleeve top': 2, 'skirt': 9, 'shorts': 7, 'long sleeve outwear': 4, 'vest dress': 12, 'short sleeve dress': 10, 'vest': 5, 'sling dress': 13, 'short sleeve outwear': 3, 'sling': 6}"
   ]
  },
  {
   "cell_type": "code",
   "execution_count": 66,
   "id": "740c57fa-826f-42de-a41f-e8af7bc79ba5",
   "metadata": {},
   "outputs": [
    {
     "name": "stdout",
     "output_type": "stream",
     "text": [
      "[[0 0 0 ... 0 0 0]\n",
      " [0 0 0 ... 0 0 0]\n",
      " [0 0 0 ... 0 0 0]\n",
      " ...\n",
      " [0 0 0 ... 8 1 0]\n",
      " [0 0 0 ... 7 1 0]\n",
      " [0 0 0 ... 2 0 0]]\n"
     ]
    }
   ],
   "source": [
    "image = cv2.imread(\"/Users/gauravneupane/Documents/ml/projects/image_retrieval/new_check/annot-000001.jpg\", cv2.IMREAD_UNCHANGED)\n",
    "image = image.astype(np.uint8)\n",
    "print(image)"
   ]
  },
  {
   "cell_type": "markdown",
   "id": "b6651772",
   "metadata": {},
   "source": []
  },
  {
   "cell_type": "code",
   "execution_count": 64,
   "id": "8ce288cf",
   "metadata": {},
   "outputs": [
    {
     "name": "stdout",
     "output_type": "stream",
     "text": [
      "[ 0  1  2  3  4  5  6  7  8  9 10 11]\n",
      "uint8\n"
     ]
    }
   ],
   "source": [
    "print(np.unique(image))\n",
    "print(image.dtype)"
   ]
  },
  {
   "cell_type": "code",
   "execution_count": null,
   "id": "af338dc5",
   "metadata": {},
   "outputs": [],
   "source": []
  }
 ],
 "metadata": {
  "kernelspec": {
   "display_name": "Python 3 (ipykernel)",
   "language": "python",
   "name": "python3"
  },
  "language_info": {
   "codemirror_mode": {
    "name": "ipython",
    "version": 3
   },
   "file_extension": ".py",
   "mimetype": "text/x-python",
   "name": "python",
   "nbconvert_exporter": "python",
   "pygments_lexer": "ipython3",
   "version": "3.12.4"
  }
 },
 "nbformat": 4,
 "nbformat_minor": 5
}

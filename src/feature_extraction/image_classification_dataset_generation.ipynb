{
 "cells": [
  {
   "cell_type": "code",
   "execution_count": 1,
   "metadata": {},
   "outputs": [],
   "source": [
    "import json\n",
    "import cv2\n",
    "import numpy as np\n",
    "import os\n",
    "import matplotlib.pyplot as plt\n",
    "import uuid"
   ]
  },
  {
   "cell_type": "code",
   "execution_count": 2,
   "metadata": {},
   "outputs": [],
   "source": [
    "image_path = '/Users/gauravneupane/Documents/ml/data/datasets/validation/image'\n",
    "annotation_path = '/Users/gauravneupane/Documents/ml/data/datasets/validation/annos'"
   ]
  },
  {
   "cell_type": "code",
   "execution_count": 3,
   "metadata": {},
   "outputs": [],
   "source": [
    "exclude_keys = ['source','pair_id']\n"
   ]
  },
  {
   "cell_type": "code",
   "execution_count": 4,
   "metadata": {},
   "outputs": [],
   "source": [
    "def load_json(json_path):\n",
    "    with open(json_path, 'r') as file:\n",
    "        data = json.load(file)\n",
    "    return data"
   ]
  },
  {
   "cell_type": "code",
   "execution_count": 5,
   "metadata": {},
   "outputs": [],
   "source": [
    "def build_output_image(image_shape,json_data):\n",
    "    '''extract mask information as points from the dataset and create a new image as a mask'''\n",
    "    image_segmentation_data_points = []\n",
    "    filtered_keys = [key for key in json_data.keys() if key not in exclude_keys]\n",
    "    categories = []\n",
    "    for key in filtered_keys:\n",
    "        data_points = json_data[key]['segmentation']\n",
    "        category = json_data[key]['category_name']\n",
    "        class_label = json_data[key]['category_id']\n",
    "        segmentation_with_class = {'data_points': data_points,\n",
    "                                   'category': category,\n",
    "                                   'class_label': class_label}\n",
    "        image_segmentation_data_points.append(segmentation_with_class)\n",
    "        categories.append(category)\n",
    "    # mask = create_mask_for_whole_image(image_shape,image_segmentation_data_points)\n",
    "    return categories, image_segmentation_data_points"
   ]
  },
  {
   "cell_type": "code",
   "execution_count": 39,
   "metadata": {},
   "outputs": [],
   "source": [
    "images_per_class = 100\n",
    "output_dir = '/Users/gauravneupane/Documents/ml/projects/image_retrieval/new_classification'\n",
    "output_image_shape = (224,224)\n",
    "training_category_count = {'trousers': 0,\n",
    "                    'short sleeve top': 0,\n",
    "                    'long sleeve dress': 0,\n",
    "                    'long sleeve top': 0,\n",
    "                    'skirt': 0,\n",
    "                    'shorts': 0,\n",
    "                    'long sleeve outwear': 0,\n",
    "                    'vest dress': 0,\n",
    "                    'short sleeve dress': 0,\n",
    "                    'vest': 0,\n",
    "                    'sling dress': 0,\n",
    "                    'short sleeve outwear': 0,\n",
    "                    'sling': 0\n",
    "                    }\n",
    "validation_category_count = {'trousers': 0,\n",
    "                    'short sleeve top': 0,\n",
    "                    'long sleeve dress': 0,\n",
    "                    'long sleeve top': 0,\n",
    "                    'skirt': 0,\n",
    "                    'shorts': 0,\n",
    "                    'long sleeve outwear': 0,\n",
    "                    'vest dress': 0,\n",
    "                    'short sleeve dress': 0,\n",
    "                    'vest': 0,\n",
    "                    'sling dress': 0,\n",
    "                    'short sleeve outwear': 0,\n",
    "                    'sling': 0\n",
    "                    }\n",
    "train_images = os.listdir(image_path)[:10000]\n",
    "# val_images = os.listdir(image_path)[100001:150001]\n",
    "\n",
    "train_path = os.path.join(output_dir, 'test')\n",
    "extract_save_image(train_images, train_path, training_category_count, 100)\n",
    "# # print(training_category_count)\n",
    "# validation_path = os.path.join(output_dir, 'validation')\n",
    "# extract_save_image(val_images, validation_path, validation_category_count, 200)\n"
   ]
  },
  {
   "cell_type": "code",
   "execution_count": 37,
   "metadata": {},
   "outputs": [],
   "source": [
    "def extract_save_image(images_path, save_dir, categories, max_data):\n",
    "    stop = True\n",
    "    for i, file in enumerate(images_path):\n",
    "        full_path = os.path.join(image_path, file)\n",
    "        annot_path = os.path.join(annotation_path, file.split('.')[0]+'.json')\n",
    "        annot_data = load_json(annot_path)\n",
    "        image = cv2.imread(full_path)\n",
    "        cats, data_points = build_output_image(output_image_shape,annot_data)\n",
    "        for cat in cats:\n",
    "            if categories[cat] < max_data:\n",
    "                categories[cat] +=1 \n",
    "                create_multiple_images_from_segmentation(image, data_points, output_dir = save_dir)\n",
    "        "
   ]
  },
  {
   "cell_type": "code",
   "execution_count": 9,
   "metadata": {},
   "outputs": [],
   "source": [
    "def create_multiple_images_from_segmentation(original_image, segmentation_cats, output_size=(224, 224), output_dir='output'):\n",
    "    '''Create separate images for each segmentation from the original image and save them individually'''\n",
    "    \n",
    "    for idx, data in enumerate(segmentation_cats):\n",
    "        segmentation = data['data_points']\n",
    "        category = data['category']\n",
    "        save_path = os.path.join(output_dir, category)\n",
    "        if not os.path.exists(save_path):\n",
    "            os.makedirs(save_path)\n",
    "        # Create a blank mask with the same size as the original image\n",
    "        mask = np.zeros(original_image.shape[:2], dtype=np.uint8)\n",
    "        \n",
    "        # Draw the current segmentation on the mask\n",
    "        all_points = []\n",
    "        for seg in segmentation:\n",
    "            points = np.array(seg).reshape(-1, 2)\n",
    "            all_points.extend(points)\n",
    "            cv2.fillPoly(mask, [points.astype(np.int32)], 255)  # Use 255 to fill the mask\n",
    "        \n",
    "        # Convert all_points to a NumPy array\n",
    "        all_points = np.array(all_points)\n",
    "        \n",
    "        if all_points.size == 0:\n",
    "            continue  # Skip if no valid points\n",
    "        \n",
    "        # Determine the bounding box for the segmentation points\n",
    "        min_x, min_y = np.min(all_points, axis=0)\n",
    "        max_x, max_y = np.max(all_points, axis=0)\n",
    "        \n",
    "        # Extract the region of interest (ROI) using the mask\n",
    "        roi = cv2.bitwise_and(original_image, original_image, mask=mask)\n",
    "        \n",
    "        # Crop the ROI to the bounding box\n",
    "        cropped_roi = roi[int(min_y):int(max_y), int(min_x):int(max_x)]\n",
    "        \n",
    "        # Resize the cropped ROI to the desired output size\n",
    "        if cropped_roi.size > 0:  # Check if the cropped ROI is not empty\n",
    "            resized_image = cv2.resize(cropped_roi, output_size, interpolation=cv2.INTER_LINEAR)\n",
    "            \n",
    "            # Save the segmented image\n",
    "            output_path = os.path.join(save_path, f'{uuid.uuid4()}.jpg')\n",
    "            cv2.imwrite(output_path, resized_image)"
   ]
  },
  {
   "cell_type": "code",
   "execution_count": 50,
   "metadata": {},
   "outputs": [
    {
     "name": "stdout",
     "output_type": "stream",
     "text": [
      "error in /Users/gauravneupane/Documents/ml/projects/image_retrieval/new_classification/validation/.DS_Store\n"
     ]
    }
   ],
   "source": [
    "training_data = '/Users/gauravneupane/Documents/ml/projects/image_retrieval/new_classification/training'\n",
    "validation_data = '/Users/gauravneupane/Documents/ml/projects/image_retrieval/new_classification/validation'\n",
    "\n",
    "for folder_name in os.listdir(validation_data):\n",
    "    files_path = os.path.join(validation_data, folder_name)\n",
    "    try:\n",
    "        for image_file in os.listdir(files_path)[200:]:\n",
    "            path = os.path.join(files_path, image_file)\n",
    "            os.remove(path)\n",
    "    except:\n",
    "        print(f\"error in {files_path}\")\n",
    "    # print(len(os.listdir(files[1000:])))\n",
    "    # for file in files[1000:]:\n",
    "\n"
   ]
  },
  {
   "cell_type": "code",
   "execution_count": null,
   "metadata": {},
   "outputs": [],
   "source": []
  }
 ],
 "metadata": {
  "kernelspec": {
   "display_name": "image-retrieval-8iTl53fU-py3.12",
   "language": "python",
   "name": "python3"
  },
  "language_info": {
   "codemirror_mode": {
    "name": "ipython",
    "version": 3
   },
   "file_extension": ".py",
   "mimetype": "text/x-python",
   "name": "python",
   "nbconvert_exporter": "python",
   "pygments_lexer": "ipython3",
   "version": "3.12.4"
  }
 },
 "nbformat": 4,
 "nbformat_minor": 2
}
